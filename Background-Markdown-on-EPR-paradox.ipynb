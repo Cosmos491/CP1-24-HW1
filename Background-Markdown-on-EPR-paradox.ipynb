{
 "cells": [
  {
   "cell_type": "markdown",
   "metadata": {},
   "source": [
    "# Background of Einstein, Podolsky, and Rosen Paradox #\n",
    "\n",
    "&nbsp;&nbsp;&nbsp;&nbsp;&nbsp;&nbsp; On May 15th 1935 Albert Einstein published the paper \"Can Quantum-Mechanical Description of Physical \n",
    "Reality Be Considered Complete?\" alongside his associates Boris Podolsky, and Nathan Rosen.\n",
    "\n",
    "&nbsp;&nbsp;&nbsp;&nbsp;&nbsp;&nbsp;Einstein, Podolsky, and Rosen begin this paper by plainly explaining a paradox in Quantum Mechanics as follows:\n",
    "\n",
    "> \"In a complete theory there is an element corresponding to each element of reality. A sufficient condition for the reality of a physical quantity is the possibility of predicting it with certainty, without disturbing the system. In quantum mechanics in the case of two physical quantities described by non-commuting operators, the knowledge of one precludes the knowledge of the other. Then either (1) the description of reality given by the wave function in quantum mechanics is not complete or (2) these two quantities cannot have simultaneous reality. Consideration of the problem of making predictions concerning a system on the basis of measurements made on another system that had previously interacted with it leads to the result that if (1) is false then (2) is also false. One is thus led to conclude that the description of reality as given by a wave function is not complete.\"\n",
    "\n",
    "&nbsp;&nbsp;&nbsp;&nbsp;&nbsp;&nbsp;*Einstein, A., et al. “Can quantum-mechanical description of physical reality be considered complete?” Physical Review, vol. 47, no. 10, 15 May 1935, pp. 777–780, https://doi.org/10.1103/physrev.47.777.*\n",
    "\n",
    "&nbsp;&nbsp;&nbsp;&nbsp;&nbsp;&nbsp;To understand what they meant we must first understand as best as we can a few fundamental ideas in quantum mechanics and the founding issues Einstein and his collegues had with them."
   ]
  },
  {
   "cell_type": "markdown",
   "metadata": {},
   "source": []
  }
 ],
 "metadata": {
  "kernelspec": {
   "display_name": "Python 3",
   "language": "python",
   "name": "python3"
  },
  "language_info": {
   "name": "python",
   "version": "3.9.2"
  }
 },
 "nbformat": 4,
 "nbformat_minor": 2
}
